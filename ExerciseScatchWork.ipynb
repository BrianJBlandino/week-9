{
 "cells": [
  {
   "cell_type": "code",
   "execution_count": 1,
   "id": "0e224fb8",
   "metadata": {},
   "outputs": [],
   "source": [
    "import pandas as pd"
   ]
  },
  {
   "cell_type": "code",
   "execution_count": 2,
   "id": "23cafacd",
   "metadata": {},
   "outputs": [],
   "source": [
    "class GroupEstimate:\n",
    "    ''' Creating a class that accepts an estimate argument\n",
    "    that can be either mean or median.'''\n",
    "    \n",
    "    def __init__(self, estimate):\n",
    "        if estimate not in [\"mean\", \"median\"]:\n",
    "            raise ValueError(\"Estimate must be either 'mean' or 'median'.\")\n",
    "        self.estimate = estimate"
   ]
  },
  {
   "cell_type": "code",
   "execution_count": null,
   "id": "7fbf0d49",
   "metadata": {},
   "outputs": [],
   "source": [
    "class GroupEstimate:\n",
    "    \"\"\"Creating a class that accepts an estimate argument\n",
    "    that can be either 'mean' or 'median'.\"\"\"\n",
    "    \n",
    "    def __init__(self, estimate):\n",
    "        \"\"\"Creating a function that sets the standards for\n",
    "        the variables and initializes the class and assigns\n",
    "        the instance variable.\"\"\"\n",
    "        \n",
    "        if estimate not in [\"mean\", \"median\"]:\n",
    "            raise ValueError(\"Estimate must be either 'mean' or 'median'.\")\n",
    "        self.estimate = estimate\n",
    "        self.group_estimates = None\n",
    "\n",
    "    def fit(self, X, y):\n",
    "        \"\"\"Creating a function that takes in a pandas Dataframe\n",
    "        of categorical data 'X' and a 1-D array 'y'.\"\"\"\n",
    "        \n",
    "        # Combining X and y into a single DataFrame\n",
    "        data = pd.DataFrame({\"X\": X, \"y\": y})\n",
    "\n",
    "        # Checking for missing values\n",
    "        if data.isnull().any().any():\n",
    "            raise ValueError(\"Input data contains missing values.\")\n",
    "        \n",
    "        "
   ]
  }
 ],
 "metadata": {
  "kernelspec": {
   "display_name": "h501-gutenberg",
   "language": "python",
   "name": "python3"
  },
  "language_info": {
   "codemirror_mode": {
    "name": "ipython",
    "version": 3
   },
   "file_extension": ".py",
   "mimetype": "text/x-python",
   "name": "python",
   "nbconvert_exporter": "python",
   "pygments_lexer": "ipython3",
   "version": "3.13.7"
  }
 },
 "nbformat": 4,
 "nbformat_minor": 5
}
